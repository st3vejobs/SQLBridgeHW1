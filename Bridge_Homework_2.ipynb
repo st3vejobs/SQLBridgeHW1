{
  "nbformat": 4,
  "nbformat_minor": 0,
  "metadata": {
    "colab": {
      "name": "Bridge Homework 2",
      "provenance": [],
      "collapsed_sections": [
        "mSn-DxOBgfnC",
        "wgLih9dzOIYi",
        "1OlnJktVFxZV"
      ],
      "authorship_tag": "ABX9TyOAX+V74jVJA4ZpLWHld5eC",
      "include_colab_link": true
    },
    "kernelspec": {
      "name": "python3",
      "display_name": "Python 3"
    },
    "language_info": {
      "name": "python"
    }
  },
  "cells": [
    {
      "cell_type": "markdown",
      "metadata": {
        "id": "view-in-github",
        "colab_type": "text"
      },
      "source": [
        "<a href=\"https://colab.research.google.com/github/st3vejobs/SQLBridgeHW1/blob/main/Bridge_Homework_2.ipynb\" target=\"_parent\"><img src=\"https://colab.research.google.com/assets/colab-badge.svg\" alt=\"Open In Colab\"/></a>"
      ]
    },
    {
      "cell_type": "markdown",
      "metadata": {
        "id": "Y2uo17hDgW5g"
      },
      "source": [
        "##Shane Hylton Bridge HW 2\n",
        "\n"
      ]
    },
    {
      "cell_type": "markdown",
      "metadata": {
        "id": "mSn-DxOBgfnC"
      },
      "source": [
        "#Question 1\n"
      ]
    },
    {
      "cell_type": "code",
      "metadata": {
        "colab": {
          "base_uri": "https://localhost:8080/"
        },
        "id": "qgrCbIJzgqbw",
        "outputId": "6dbc4874-8cea-4de6-fc70-18f8edcf8749"
      },
      "source": [
        "import numpy as np\n",
        "from sympy import Poly, Symbol, solve_poly_inequality, solve, sin, sympify\n",
        "import sympy as sp\n",
        "\n",
        "sq_array = np.matrix('25 7; 7 25')\n",
        "identity = np.matrix('1 0; 0 1')\n",
        "\n",
        "sq_a = sq_array[0]\n",
        "sq_b = sq_array[1]\n",
        "\n",
        "a = identity[0]\n",
        "b = identity[1]\n",
        "\n",
        "lam = Symbol('lam')\n",
        "exp = sympify(lam*a)\n",
        "expa = sympify(lam*b)\n",
        "\n",
        "exp1 = sympify(sq_array[0,0] - exp[0,0])\n",
        "exp2 = sympify(sq_array[0,1] - exp[0,1])\n",
        "exp3 = sympify(sq_array[1,0] - expa[0,0])\n",
        "exp4 = sympify(sq_array[1,1] - expa[0,1])\n",
        "\n",
        "f1 = exp1*exp4\n",
        "f2 = exp2*exp3\n",
        "\n",
        "func = sympify(f1-f2)\n",
        "\n",
        "print(f'The two possible eigenvalues are: {solve(func, lam)}')\n",
        "\n",
        "#Now need to find the eigenvectors\n",
        "\n",
        "eigval = solve(func, lam)\n",
        "\n",
        "exp1 = sympify(sq_array[0,0] - eigval[0])\n",
        "exp2 = sympify(sq_array[0,1] - exp[0,1])\n",
        "exp3 = sympify(sq_array[1,0] - expa[0,0])\n",
        "exp4 = sympify(sq_array[1,1] - eigval[0])\n",
        "\n",
        "x = Symbol('x')\n",
        "y = Symbol('y')\n",
        "rat = Symbol('rat') #rat will be ratio of y/x\n",
        "\n",
        "v1 = sympify(exp1*x + exp2*y)\n",
        "v1 = sympify(exp1 + exp2*rat)\n",
        "v2 = sympify(exp3*x + exp4*y)\n",
        "v2 = sympify(exp3 + exp4*rat)\n",
        "\n",
        "rat1 = float(solve(v1, rat)[0]) #converting the list's single element to a float\n",
        "\n",
        "exp1 = sympify(sq_array[0,0] - eigval[1])\n",
        "exp2 = sympify(sq_array[0,1] - exp[0,1])\n",
        "exp3 = sympify(sq_array[1,0] - expa[0,0])\n",
        "exp4 = sympify(sq_array[1,1] - eigval[1])\n",
        "\n",
        "v1 = sympify(exp1*x + exp2*y)\n",
        "v1 = sympify(exp1 + exp2*rat)\n",
        "v2 = sympify(exp3*x + exp4*y)\n",
        "v2 = sympify(exp3 + exp4*rat)\n",
        "\n",
        "rat2 = float(solve(v1,rat)[0])\n",
        "\n",
        "vec1 = ([1],[rat1])\n",
        "vec2 = ([1], [rat2])\n",
        "\n",
        "\n",
        "print(f'The eigenvectors for this matrix are:')\n",
        "print(np.matrix(vec1))\n",
        "print(np.matrix(vec2))\n",
        "print('The ratio of the x and y eigenvalues is the same as it is in the numpy method.')\n",
        "print('Using the built in function: ')\n",
        "print(np.linalg.eig(sq_array))\n",
        "\n",
        "\n",
        "\n",
        "\n",
        "\n",
        "\n"
      ],
      "execution_count": 106,
      "outputs": [
        {
          "output_type": "stream",
          "text": [
            "The two possible eigenvalues are: [18, 32]\n",
            "The eigenvectors for this matrix are:\n",
            "[[1.0000]\n",
            " [-1.0000]]\n",
            "[[1.0000]\n",
            " [1.0000]]\n",
            "The ratio of the x and y eigenvalues is the same as it is in the numpy method.\n",
            "Using the built in function: \n",
            "(array([32.0000, 18.0000]), matrix([[0.7071, -0.7071],\n",
            "        [0.7071, 0.7071]]))\n"
          ],
          "name": "stdout"
        }
      ]
    },
    {
      "cell_type": "markdown",
      "metadata": {
        "id": "wgLih9dzOIYi"
      },
      "source": [
        "#Question 2\n"
      ]
    },
    {
      "cell_type": "code",
      "metadata": {
        "colab": {
          "base_uri": "https://localhost:8080/"
        },
        "id": "ywZ8kDVsgjga",
        "outputId": "eb2d4aad-2202-43fd-d1fb-f4fe7ddecc64"
      },
      "source": [
        "import numpy as np\n",
        "from scipy.linalg import orth\n",
        "np.set_printoptions(formatter ={'float':\"{:.4f}\".format})\n",
        "Mat = np.matrix('4 4; -3 3')\n",
        "MatT = np.transpose(Mat)\n",
        "\n",
        "U = Mat*MatT\n",
        "W = MatT*Mat\n",
        "\n",
        "eigVw, eigW = np.linalg.eig(W)\n",
        "eigVu, eigU = np.linalg.eig(U)\n",
        "W = W.astype(float)\n",
        "U = U.astype(float)\n",
        "eigU = np.transpose(eigU)\n",
        "eigW = np.transpose(eigW) #numpy stores the eigenvectors as columns\n",
        "\n",
        "Vt = eigW\n",
        "Ut = eigU\n",
        "\n",
        "a = eigVw[0]**(1/2)\n",
        "b = eigVw[1]**(1/2)\n",
        "c = 0\n",
        "S = np.matrix([[a,c],[c,b]])\n",
        "\n",
        "SVD = Ut*S*Vt\n",
        "print('The Singular Value Decomposition is given by: ')\n",
        "print(f'{SVD} = {Ut} * {S} * {Vt}')\n",
        "\n",
        "#Using numpy function:\n",
        "U, s, V = np.linalg.svd(Mat)\n",
        "\n"
      ],
      "execution_count": 119,
      "outputs": [
        {
          "output_type": "stream",
          "text": [
            "The Singular Value Decomposition is given by: \n",
            "[[4.0000 4.0000]\n",
            " [-3.0000 3.0000]] = [[1.0000 0.0000]\n",
            " [0.0000 1.0000]] * [[5.6569 0.0000]\n",
            " [0.0000 4.2426]] * [[0.7071 0.7071]\n",
            " [-0.7071 0.7071]]\n"
          ],
          "name": "stdout"
        }
      ]
    },
    {
      "cell_type": "markdown",
      "metadata": {
        "id": "1OlnJktVFxZV"
      },
      "source": [
        "# Question 3\n"
      ]
    },
    {
      "cell_type": "code",
      "metadata": {
        "colab": {
          "base_uri": "https://localhost:8080/"
        },
        "id": "-QUFlcFYF84A",
        "outputId": "ddd05042-85aa-4db2-b7dd-1a7742eda6a0"
      },
      "source": [
        "import numpy as np\n",
        "\n",
        "#For 2x2 arrays:\n",
        "arr = np.matrix('3 8; 4 6')\n",
        "detarr = arr[0,0]*arr[1,1] - arr[0,1]*arr[1,0]\n",
        "print(detarr)\n",
        "\n",
        "#For 3x3 arrays:\n",
        "arr3 = np.matrix('3 8 10; 3 6 7; 7 2 2')\n",
        "\n",
        "det3 = 0\n",
        "for num in range(0,3):\n",
        "  if num == 0:\n",
        "    det3 += arr3[0,0]*(arr3[1,1]*arr3[2,2] - arr3[1,2]*arr3[2,1])\n",
        "  elif num == 1:\n",
        "    det3 -= arr3[0,1]*(arr3[1,0]*arr3[2,2] - arr3[1,2]*arr3[2,0])\n",
        "  elif num == 2:\n",
        "    det3 += arr3[0,2]*(arr3[1,0]*arr3[2,1] - arr3[1,1]*arr3[2,0])\n",
        "print(det3)\n"
      ],
      "execution_count": 121,
      "outputs": [
        {
          "output_type": "stream",
          "text": [
            "-14\n",
            "-22\n"
          ],
          "name": "stdout"
        }
      ]
    }
  ]
}